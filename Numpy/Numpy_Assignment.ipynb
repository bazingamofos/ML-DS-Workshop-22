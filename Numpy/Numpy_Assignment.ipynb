{
 "cells": [
  {
   "cell_type": "markdown",
   "id": "c76d97fe",
   "metadata": {},
   "source": [
    "# Numpy Assignment\n",
    "\n",
    "The following assignment is to check your competence with the basics of the Numpy library"
   ]
  },
  {
   "cell_type": "code",
   "execution_count": 8,
   "id": "c1daa747",
   "metadata": {},
   "outputs": [],
   "source": [
    "import numpy as np"
   ]
  },
  {
   "cell_type": "markdown",
   "id": "38173592",
   "metadata": {},
   "source": [
    "## 1. Make an array of size (8, 10) with all the numbers in it being 5\n",
    "<br>\n",
    "Expected Output: <br>\n",
    "([[5, 5, 5, 5, 5, 5, 5, 5, 5, 5],<br>\n",
    "                        [5, 5, 5, 5, 5, 5, 5, 5, 5, 5],<br>\n",
    "                        [5, 5, 5, 5, 5, 5, 5, 5, 5, 5],<br>\n",
    "                        [5, 5, 5, 5, 5, 5, 5, 5, 5, 5],<br>\n",
    "                        [5, 5, 5, 5, 5, 5, 5, 5, 5, 5],<br>\n",
    "                        [5, 5, 5, 5, 5, 5, 5, 5, 5, 5],<br>\n",
    "                        [5, 5, 5, 5, 5, 5, 5, 5, 5, 5],<br>\n",
    "                        [5, 5, 5, 5, 5, 5, 5, 5, 5, 5]])"
   ]
  },
  {
   "cell_type": "code",
   "execution_count": 9,
   "id": "e3391bbc",
   "metadata": {},
   "outputs": [
    {
     "name": "stdout",
     "output_type": "stream",
     "text": [
      "[[5 5 5 5 5 5 5 5 5 5]\n",
      " [5 5 5 5 5 5 5 5 5 5]\n",
      " [5 5 5 5 5 5 5 5 5 5]\n",
      " [5 5 5 5 5 5 5 5 5 5]\n",
      " [5 5 5 5 5 5 5 5 5 5]\n",
      " [5 5 5 5 5 5 5 5 5 5]\n",
      " [5 5 5 5 5 5 5 5 5 5]\n",
      " [5 5 5 5 5 5 5 5 5 5]]\n"
     ]
    }
   ],
   "source": [
    "# Your Code Starts\n",
    "print(np.zeros((8,10), int)+5)"
   ]
  },
  {
   "cell_type": "markdown",
   "id": "bd10f469",
   "metadata": {},
   "source": [
    "## 2. Find the minimum and maximum values present in the given array\n",
    "\n",
    "Expected Output:<br>\n",
    "Minimum: 1<br>\n",
    "Maximum: 97"
   ]
  },
  {
   "cell_type": "code",
   "execution_count": 4,
   "id": "47aabf91",
   "metadata": {},
   "outputs": [
    {
     "name": "stdout",
     "output_type": "stream",
     "text": [
      "Minimum:  1\n",
      "Maximum:  97\n"
     ]
    }
   ],
   "source": [
    "arr = np.array([[ 3, 52, 95, 73,  9, 86, 28],\n",
    "                [83,  8, 32, 47, 97, 87, 93],\n",
    "                [14, 82, 32, 91, 87, 47, 60],\n",
    "                [54, 72, 90,  4, 74, 10, 27],\n",
    "                [71,  1, 26, 70, 77, 74, 89],\n",
    "                [47, 43, 30, 55, 19, 69, 50],\n",
    "                [63, 22, 67,  8, 84, 75, 52]])\n",
    "\n",
    "#min = -1 # Use the min and max variables to store the desired values\n",
    "#max = -1\n",
    "\n",
    "# Your Code Starts\n",
    "\n",
    "min=arr.min()\n",
    "max=arr.max()\n",
    "\n",
    "# Your Code Ends\n",
    "\n",
    "print(\"Minimum: \", min)\n",
    "print(\"Maximum: \", max)"
   ]
  },
  {
   "cell_type": "markdown",
   "id": "54bb13c8",
   "metadata": {},
   "source": [
    "## 3. The mass of a given body is given to be \"*m*\" Kg and it is given that it moves with an accelaration of \"*a*\" m/s<sup>2</sup>, find the force exerted by it when it crashes into a wall\n",
    "\n",
    "Expected Output:<br>\n",
    "Force: [35]i + [40]j + [45]k "
   ]
  },
  {
   "cell_type": "code",
   "execution_count": 11,
   "id": "f762a2e9",
   "metadata": {},
   "outputs": [],
   "source": [
    "# Make no changes in this block of code\n",
    "m = 5\n",
    "a = np.array([[7],[8],[9]])"
   ]
  },
  {
   "cell_type": "code",
   "execution_count": 6,
   "id": "6ff8da72",
   "metadata": {},
   "outputs": [
    {
     "name": "stdout",
     "output_type": "stream",
     "text": [
      "Force:[35]i + [40]j + [45]k \n"
     ]
    }
   ],
   "source": [
    "# Your Code Starts\n",
    "a*=m\n",
    "# Your Code Ends\n",
    "print(\"Force:{}i + {}j + {}k \".format(a[0],a[1],a[2]))"
   ]
  },
  {
   "cell_type": "markdown",
   "id": "6c52d8b0",
   "metadata": {},
   "source": [
    "## 4. Create a vector of size 10 with values ranging from 0 to 1 (both included)"
   ]
  },
  {
   "cell_type": "code",
   "execution_count": 12,
   "id": "58bb1f5d",
   "metadata": {},
   "outputs": [
    {
     "name": "stdout",
     "output_type": "stream",
     "text": [
      "[0.         0.11111111 0.22222222 0.33333333 0.44444444 0.55555556\n",
      " 0.66666667 0.77777778 0.88888889 1.        ]\n"
     ]
    }
   ],
   "source": [
    "# Your Code Starts\n",
    "print(np.linspace(0,1,10))\n",
    "\n",
    "# Your Code Ends"
   ]
  },
  {
   "cell_type": "markdown",
   "id": "9d850d2e",
   "metadata": {},
   "source": [
    "## 5. Subtract from the elements of a row the mean of that row\n",
    "Expected Output:<br>\n",
    "[[  1.8  47.8   5.8 -30.2 -25.2]<br>\n",
    " [-11.8  21.2  28.2   0.2 -37.8]<br>\n",
    " [-53.2  22.8   8.8  24.8  -3.2]<br>\n",
    " [ 16.8 -16.2 -12.2  29.8 -18.2]<br>\n",
    " [ -2.4 -11.4  38.6 -19.4  -5.4]]"
   ]
  },
  {
   "cell_type": "code",
   "execution_count": 13,
   "id": "04960f2f",
   "metadata": {},
   "outputs": [
    {
     "name": "stdout",
     "output_type": "stream",
     "text": [
      "[[  1.8  47.8   5.8 -30.2 -25.2]\n",
      " [-11.8  21.2  28.2   0.2 -37.8]\n",
      " [-53.2  22.8   8.8  24.8  -3.2]\n",
      " [ 16.8 -16.2 -12.2  29.8 -18.2]\n",
      " [ -2.4 -11.4  38.6 -19.4  -5.4]]\n"
     ]
    }
   ],
   "source": [
    "arr = np.array([[40, 86, 44,  8, 13],\n",
    "                [33, 66, 73, 45,  7],\n",
    "                [15, 91, 77, 93, 65],\n",
    "                [36,  3,  7, 49,  1],\n",
    "                [55, 46, 96, 38, 52]], dtype = float)\n",
    "\n",
    "# Your Code Starts\n",
    "\n",
    "mean=arr.sum(axis=1)/len(arr)\n",
    "arr-=mean.reshape(5,1)\n",
    "\n",
    "# Your Code Ends\n",
    "\n",
    "print(arr)"
   ]
  },
  {
   "cell_type": "markdown",
   "id": "5c8b424f",
   "metadata": {},
   "source": [
    "## 6. Create a 8 x 8 Matrix with a checkerboard pattern\n",
    "Expected Output:<br>\n",
    "[[0 1 0 1 0 1 0 1]<br>\n",
    "  [1 0 1 0 1 0 1 0]<br>\n",
    "  [0 1 0 1 0 1 0 1]<br>\n",
    "  [1 0 1 0 1 0 1 0]<br>\n",
    "  [0 1 0 1 0 1 0 1]<br>\n",
    "  [1 0 1 0 1 0 1 0]<br>\n",
    "  [0 1 0 1 0 1 0 1]<br>\n",
    "  [1 0 1 0 1 0 1 0]]"
   ]
  },
  {
   "cell_type": "code",
   "execution_count": 14,
   "id": "e3249968",
   "metadata": {},
   "outputs": [
    {
     "name": "stdout",
     "output_type": "stream",
     "text": [
      "[[0 1 0 1 0 1 0 1]\n",
      " [1 0 1 0 1 0 1 0]\n",
      " [0 1 0 1 0 1 0 1]\n",
      " [1 0 1 0 1 0 1 0]\n",
      " [0 1 0 1 0 1 0 1]\n",
      " [1 0 1 0 1 0 1 0]\n",
      " [0 1 0 1 0 1 0 1]\n",
      " [1 0 1 0 1 0 1 0]]\n"
     ]
    }
   ],
   "source": [
    "checked_arr = -1 # Use this variable to store desired output\n",
    "\n",
    "# Your Code Starts\n",
    "\n",
    "checked_arr=np.ones((8,8), int)\n",
    "checked_arr[::2, ::2]=0\n",
    "checked_arr[1::2,1::2]=0\n",
    "\n",
    "# Your Code Ends\n",
    "\n",
    "print(checked_arr)"
   ]
  },
  {
   "attachments": {
    "image-2.png": {
     "image/png": "[encoded data removed]"
    }
   },
   "cell_type": "markdown",
   "id": "5f993a34",
   "metadata": {},
   "source": [
    "## 7. We are given a completely white image, our task is to make a \"plus\" sign in the center of the image that is 20px wide\n",
    "\n",
    "Expected Output:<br>\n",
    "![image-2.png](attachment:image-2.png)\n"
   ]
  },
  {
   "cell_type": "code",
   "execution_count": null,
   "id": "fbd1dbcc",
   "metadata": {},
   "outputs": [],
   "source": [
    "import urllib.request\n",
    "from PIL import Image\n",
    "import numpy as np\n",
    "  \n",
    "urllib.request.urlretrieve('https://user-images.githubusercontent.com/84843295/196621738-50bc27a5-b5cd-4a09-b2f6-9853b953d55c.jpg', \"white.png\")\n",
    "\n",
    "img = Image.open(\"white.png\")\n",
    "\n",
    "img_arr = np.array(img) # This variable contains your image array\n",
    "\n",
    "# Your Code Starts (Don't tamper with above code)\n",
    "\n",
    "nc=int(len(img_arr)/2)\n",
    "img_arr[nc-10:nc+11]=[246,0,0]\n",
    "nr=int(len(img_arr[0])/2)\n",
    "img_arr[::,nr-10:nr+11]=[246,0,0]\n",
    "\n",
    "# Your Code Ends (Don't tamper with below code)\n",
    "\n",
    "new = Image.fromarray(img_arr)\n",
    "new.show()"
   ]
  }
 ],
 "metadata": {
  "kernelspec": {
   "display_name": "Python 3.9.7 ('base')",
   "language": "python",
   "name": "python3"
  },
  "language_info": {
   "codemirror_mode": {
    "name": "ipython",
    "version": 3
   },
   "file_extension": ".py",
   "mimetype": "text/x-python",
   "name": "python",
   "nbconvert_exporter": "python",
   "pygments_lexer": "ipython3",
   "version": "3.9.7"
  },
  "vscode": {
   "interpreter": {
    "hash": "ff4f85d6e04298634172ac5d8264e7e9b556b95639fe52ebb9425c4d4cba0c9c"
   }
  }
 },
 "nbformat": 4,
 "nbformat_minor": 5
}
